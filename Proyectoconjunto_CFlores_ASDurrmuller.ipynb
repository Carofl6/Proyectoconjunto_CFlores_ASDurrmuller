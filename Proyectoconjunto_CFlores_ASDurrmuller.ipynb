{
 "cells": [
  {
   "cell_type": "markdown",
   "metadata": {},
   "source": [
    "<img style=\"float: left; margin: 30px 15px 15px 15px;\" src=\"https://pngimage.net/wp-content/uploads/2018/06/logo-iteso-png-5.png\" width=\"300\" height=\"500\" /> \n",
    "    \n",
    "    \n",
    "### <font color='navy'> Simulación de procesos financieros. \n",
    "\n",
    "**Nombres:** Carolina Flores Luelmo y Ana Sofia Durrmuller Acosta\n",
    "\n",
    "**Fecha:** 30 de agosto del 2021.\n",
    "\n",
    "**Expediente** : if713578\n",
    "**Profesor:** Oscar David Jaramillo Zuluaga.\n",
    "\n",
    "# Tarea 1: Clase 2"
   ]
  },
  {
   "cell_type": "markdown",
   "metadata": {},
   "source": [
    "## Descripción de la tarea\n",
    "# <font color=red>**Tarea 1- git**</font> \n",
    "\n",
    "\n",
    "Este archivo contiene las pautas necesarias para crear el archivo conjunto en Github, usando los notebooks de Jupyter:\n",
    "\n",
    "1.  El archivo debe realizarse en parejas y sólo uno de los dos debe crear en su cuenta de *Github* un repositorio con el nombre **ProyectoConjunto\\_APELLIDO1\\_APELLIDO2**. A la persona que creó el repositorio la llamaremos (ESTUDIANTE 1 ). El APELLIDO se debe de escribir (Iniciales del nombre y primer apellido), por ejemplo si yo creara el archivo lo debería de nombrar *ProyectoConjunto\\_ODJaramillo*. \n",
    "1.  Posteriormente, desde la cuenta del (ESTUDIANTE 2), 'aquel que no creó el repositorio anterior', ingresar al perfil del ESTUDIANTE 1 y en el repositorio creado en el paso 1, realizar un \"fork\" de este repositorio en su perfil, y además realizar los pasos en Gitkraken para hacer dicho repositorio \"Remoto (REMOTE)\" VER DICHO PROCEDIMIENTO EN LA CLASE **Clase2_GitTurorial2**.\n",
    "1.  Luego de realizados los pasos 1 y 2, el ESTUDIANTE 1 y ESTUDIANTE 2, desde su computador realizar un *clone* del repositorio creado en el numeral 1 en la carpeta que cada quién haya asignado para el curso en su computador. \n",
    "1.  Luego desde Jupyter el ESTUDIANTE 1, crea un nuevo ``notebook`` en el repositorio del paso 3. \n",
    "1.  En este nuevo notebook el ESTUDIANTE 1 y ESTUDIANTE 2, deben realizar una presentación describiendo sus expectativas del curso y la transcipción de la Figura 1 y Figura 2 respectivamente, haciendo uso de la sintaxis Markdown. Recuerden definir unas celdas donde cada usuario modificará el cuaderno de python para evitar futuros conflictos. \n",
    "\n",
    "**RECOMENDACIÓN:ANTES DE EMPEZAR A REALIZAR MUCHAS MODIFICACIONES DEL NOTEBOOK PRIMERO REALICEN CAMBIOS PEQUEÑOS EN EL ARCHIVO EN CONJUNTO Y VERIFIQUEN SI TANTO EL ``ESTUDIANTE 1`` COMO EL ``ESTUDIANTE 2``  RECIBEN LAS ACTUALIZACIONES QUE REALIZAN CADA UNO EN EL PROYECTO PARA VERIFICAR QUE EL REMOTE ESTUVO BIEN CONFIGURADO.**\n",
    ">Les recomiendo ver los siguientes enlaces para ver distintas funciones para escribir en markdown.\n",
    ">    - [Creador de tablas online](https://www.tablesgenerator.com/markdown_tables)\n",
    ">    - [Sintáxis markdown](https://joplinapp.org/markdown/)\n",
    "\n",
    "6. Cuando ya se encuentre el proyecto conjunto con la información del ESTUDIANTE 1 y ESTUDIANTE 2, el ``ESTUDIANTE 2``  debe de realizar un `pull request` con las modificaciones realizadas a el `ESTUDIANTE 1` para que este realice un merge a la rama `master`, con las moficaciones propuestas por el `ESTUDIANTE 2`, TAL Y CÓMO SE REALIZÓ EN CLASE. (Recuerden que los pull request se generan en *Gitkraken* y se administran los comentarios o cambios propuestos por su compañero desde *Github* ver `Clase1_GitTurorial` para aclaración de dudas, donde se explica cómo crear *branch y pull request*)"
   ]
  },
  {
   "cell_type": "markdown",
   "metadata": {},
   "source": [
    "#### Estudiante 1: Carolina Flores Luelmo\n",
    "\n",
    "Espero del curso poder salir programando de manera eficiente como se hace en realidad y aprender shortcuts que me sean de utilidad. En si espero poder mejorar mis habilidades de programación y profundizar en varios temas como: \n",
    "\n",
    "* Programar de manera eficiente en Python.\n",
    "* Utilizar la programación como un medio de resolución de problemas en la empresa.\n",
    "* Simular el comportamiento de activos para predecir su comportamiento futuro.\n",
    "* Aprender a aplicar lo visto en clase a otras áreas que requieran simulaciones. \n",
    "\n"
   ]
  },
  {
   "cell_type": "markdown",
   "metadata": {},
   "source": [
    "\n",
    "| $i$       | $x$   | $f(x)$  |\n",
    "|---------|-----|-----|-----|\n",
    "| $0$  | $-1$     | $0.3678$ | \n",
    "|<font color='red'>$1$</font> |<font color='red'>$-0.5$</font> |<font color='red'>$0.7788$ </font>| \n",
    "| <font color='blue'>$2$</font>  |<font color='blue'>$0$</font>     | <font color='blue'>$1$</font> |\n",
    "| <font color='red'>$3$</font>|<font color='red'>$0.5$</font> |<font color='red'>$0.7788$ </font>|\n",
    "| $4$  | $1$      | $0.3678$ |\n",
    "\n",
    "$$\\text {Cuadro 1: Tabla de valores de f(x)} $$\n",
    " \n",
    "$\\int_{-1}^{1} {e^{-x^2}}dx \\approx (\\frac{0,5}{3})[f(-1) + f(1) + 4$(<font color='red'>$f(-0,5) + f(0,5)$</font> ) + 2 (<font color='blue'>$f(0)$</font>)]\n",
    "  \n",
    "$ \\approx(\\frac{0,5}{3})[0,3678 + 0,3678 + 4 $ ({<font color='red'>$ 0,7788 $</font>} ) + 2 (<font color='blue'>$ 1 $</font>)] $\\approx 1,4943 $\n",
    "\n",
    "\n",
    "   A modo de verificación, se calculará por software, el valor del área para *n = 100*, un valor mucho más elevado al que se utilizó anteriormente. Si lo calculado previamente es correcto, se esperaría que sea próximo al valor presentado a continuación para ser una buena aproximación.\n",
    "\n",
    "$$ \\int_{-1}^{1} {e^{-x^2}}dx \\approx 1,4936 $$"
   ]
  },
  {
   "cell_type": "markdown",
   "metadata": {},
   "source": [
    "#### Estudiante 2: Ana Sofia Dürrmüller"
   ]
  },
  {
   "cell_type": "markdown",
   "metadata": {},
   "source": [
    "\n",
    "| $i$       | $1$   | $2$   | $3$   | $4$   | $5$ | $6$ | $7$  |\n",
    "|---------|-----|-----|-----|-----|---|---|----|\n",
    "| $E_i(V)$   | $12$  | $10$  | $24$  | $12$  | $-$ | $-$ | $-$  |\n",
    "| $r_i(\\Omega)$ | $0.1$ | $0.5$ | $0.2$ | $0.5$ | $-$ | $-$ | $-$  |\n",
    "| $R_i(\\Omega)$ | $25$  | $40$  | $16$  | $20$  | $9$ | $4$ | $20$ |  \n",
    "\n",
    "$\\color{#3e97cf}{\\text{Kemna y Vorst (1990)}}$ muestran que las opciones asiáticas con media geométrica continua se puede valuar con el mismo enfoque de las opciones *plain vanilla*; solo se deben cambiar los parámetros de volatilidad $\\sigma$ por $\\sigma_a$, y el costo de acarreo $b$ por $b_a$.  \n",
    "De acuerdo con Kemna y Vorst, las fórmulas para valuar una opción de compra y una opción de venta son:  \n",
    "$\\quad c \\approx S_t e^{(b_A - r)(T-t)}\\Phi(d_1) - Ke^{-r(T-t)}\\Phi(d_2), $  \n",
    "$\\quad p \\approx Ke^{-r(T-t)}\\Phi(-d_2) - S_te^{(b_A-r)(T-t)}\\Phi(-d_1). $  \n",
    "con $d_1$ y $d_2$ dados por:  \n",
    "$\\quad d_1 = \\frac{ln(S_t/K) + (b_A + 1/2\\sigma^2_a)(T-t)}{\\sigma \\sqrt{T-t}}, $  \n",
    "$\\quad d_2 = d_1 - \\sigma_a\\sqrt{T-t}. $  \n",
    "La función $\\Phi(d)$ es la función de distribución acumulada de $E \\sim \\mathcal{N}(0,1)$. La volatilidad ajustada es igual a:  \n",
    "$\\quad \\sigma_a = \\frac{\\sigma}{\\sqrt{3}}$  \n",
    "mientras que el costo de acarreo ajustado es:  \n",
    "$\\quad b_A = \\frac{1}{2} \\left( v - \\frac{\\sigma^2}{6} \\right)$\n",
    "\n",
    "\n",
    "\n"
   ]
  },
  {
   "cell_type": "code",
   "execution_count": 2,
   "metadata": {},
   "outputs": [
    {
     "name": "stdout",
     "output_type": "stream",
     "text": [
      "[2, 3, 5, 7, 11, 13, 17, 19, 23, 29, 31, 37, 41, 43, 47, 53, 59, 61, 67, 71, 73, 79, 83, 89, 97]\n"
     ]
    }
   ],
   "source": [
    "X= [i for i in range(2,101)\n",
    "   if(i%2!=0 or i==2) and (i%3!=0 or i==3) and (i%5!=0 or i==5) and (i%7!=0 or i==7)]\n",
    "print(X)"
   ]
  },
  {
   "cell_type": "markdown",
   "metadata": {},
   "source": [
    "#### Serie de Fibonacci "
   ]
  },
  {
   "cell_type": "code",
   "execution_count": 1,
   "metadata": {},
   "outputs": [],
   "source": [
    "fibonacci = [0, 1]\n",
    "for i in range(2,100):\n",
    "    fibonacci.append(fibonacci[i-1]+fibonacci[i-2])"
   ]
  },
  {
   "cell_type": "code",
   "execution_count": 2,
   "metadata": {},
   "outputs": [
    {
     "data": {
      "text/plain": [
       "[0,\n",
       " 1,\n",
       " 1,\n",
       " 2,\n",
       " 3,\n",
       " 5,\n",
       " 8,\n",
       " 13,\n",
       " 21,\n",
       " 34,\n",
       " 55,\n",
       " 89,\n",
       " 144,\n",
       " 233,\n",
       " 377,\n",
       " 610,\n",
       " 987,\n",
       " 1597,\n",
       " 2584,\n",
       " 4181,\n",
       " 6765,\n",
       " 10946,\n",
       " 17711,\n",
       " 28657,\n",
       " 46368,\n",
       " 75025,\n",
       " 121393,\n",
       " 196418,\n",
       " 317811,\n",
       " 514229,\n",
       " 832040,\n",
       " 1346269,\n",
       " 2178309,\n",
       " 3524578,\n",
       " 5702887,\n",
       " 9227465,\n",
       " 14930352,\n",
       " 24157817,\n",
       " 39088169,\n",
       " 63245986,\n",
       " 102334155,\n",
       " 165580141,\n",
       " 267914296,\n",
       " 433494437,\n",
       " 701408733,\n",
       " 1134903170,\n",
       " 1836311903,\n",
       " 2971215073,\n",
       " 4807526976,\n",
       " 7778742049,\n",
       " 12586269025,\n",
       " 20365011074,\n",
       " 32951280099,\n",
       " 53316291173,\n",
       " 86267571272,\n",
       " 139583862445,\n",
       " 225851433717,\n",
       " 365435296162,\n",
       " 591286729879,\n",
       " 956722026041,\n",
       " 1548008755920,\n",
       " 2504730781961,\n",
       " 4052739537881,\n",
       " 6557470319842,\n",
       " 10610209857723,\n",
       " 17167680177565,\n",
       " 27777890035288,\n",
       " 44945570212853,\n",
       " 72723460248141,\n",
       " 117669030460994,\n",
       " 190392490709135,\n",
       " 308061521170129,\n",
       " 498454011879264,\n",
       " 806515533049393,\n",
       " 1304969544928657,\n",
       " 2111485077978050,\n",
       " 3416454622906707,\n",
       " 5527939700884757,\n",
       " 8944394323791464,\n",
       " 14472334024676221,\n",
       " 23416728348467685,\n",
       " 37889062373143906,\n",
       " 61305790721611591,\n",
       " 99194853094755497,\n",
       " 160500643816367088,\n",
       " 259695496911122585,\n",
       " 420196140727489673,\n",
       " 679891637638612258,\n",
       " 1100087778366101931,\n",
       " 1779979416004714189,\n",
       " 2880067194370816120,\n",
       " 4660046610375530309,\n",
       " 7540113804746346429,\n",
       " 12200160415121876738,\n",
       " 19740274219868223167,\n",
       " 31940434634990099905,\n",
       " 51680708854858323072,\n",
       " 83621143489848422977,\n",
       " 135301852344706746049,\n",
       " 218922995834555169026]"
      ]
     },
     "execution_count": 2,
     "metadata": {},
     "output_type": "execute_result"
    }
   ],
   "source": [
    "fibonacci"
   ]
  },
  {
   "cell_type": "code",
   "execution_count": null,
   "metadata": {},
   "outputs": [],
   "source": []
  }
 ],
 "metadata": {
  "kernelspec": {
   "display_name": "Python 3",
   "language": "python",
   "name": "python3"
  },
  "language_info": {
   "codemirror_mode": {
    "name": "ipython",
    "version": 3
   },
   "file_extension": ".py",
   "mimetype": "text/x-python",
   "name": "python",
   "nbconvert_exporter": "python",
   "pygments_lexer": "ipython3",
   "version": "3.6.5"
  }
 },
 "nbformat": 4,
 "nbformat_minor": 2
}
